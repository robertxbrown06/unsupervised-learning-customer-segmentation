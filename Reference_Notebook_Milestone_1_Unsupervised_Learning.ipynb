{
 "cells": [
  {
   "cell_type": "markdown",
   "id": "38365d44",
   "metadata": {
    "id": "UlqYJ7oql3o1"
   },
   "source": [
    "# **Milestone 1**\n",
    "\n",
    "## **Context**\n",
    " - In the contect of marketing analytics, customer segmentation has a vital role to play in optimizing return on investment.\n",
    " - Customer segmentation is the process of dividing a dataset of customers into groups of similar customers based on certain common characteristics, usually for the purpose of understanding the population dataset in a better fashion."
   ]
  },
  {
   "cell_type": "markdown",
   "id": "dbd99eb1",
   "metadata": {
    "id": "xcOelcO5l6aM"
   },
   "source": [
    "### **The objectives:**\n",
    "\n",
    " - Use dimensionality reduction and clustering to come up with the best possible customer segments using the customer dataset."
   ]
  },
  {
   "cell_type": "markdown",
   "id": "57a8c1ec",
   "metadata": {
    "id": "R0lXs6xjmBgk"
   },
   "source": [
    "### **The key questions:**\n",
    "\n",
    "- What are the key questions that need to be answered?\n",
    "\n"
   ]
  },
  {
   "cell_type": "markdown",
   "id": "b70cedf1",
   "metadata": {
    "id": "4vh1HBtdmE_I"
   },
   "source": [
    "### **The problem formulation**:\n",
    "\n",
    "- What is it that we are trying to solve using data science?"
   ]
  },
  {
   "cell_type": "markdown",
   "id": "bd434483",
   "metadata": {},
   "source": [
    "------------------------------\n",
    "## **Data Dictionary**\n",
    "------------------------------\n",
    "\n",
    "The dataset contains the following features:\n",
    "\n",
    "1. ID: Unique ID of each customer\n",
    "2. Year_Birth: Customer’s year of birth\n",
    "3. Education: Customer's level of education\n",
    "4. Marital_Status: Customer's marital status\n",
    "5. Kidhome: Number of small children in customer's household\n",
    "6. Teenhome: Number of teenagers in customer's household\n",
    "7. Income: Customer's yearly household income in USD\n",
    "8. Recency: Number of days since the last purchase\n",
    "9. Dt_Customer: Date of customer's enrollment with the company\n",
    "10. MntFishProducts: The amount spent on fish products in the last 2 years\n",
    "11. MntMeatProducts: The amount spent on meat products in the last 2 years\n",
    "12. MntFruits: The amount spent on fruits products in the last 2 years\n",
    "13. MntSweetProducts: Amount spent on sweet products in the last 2 years\n",
    "14. MntWines: The amount spent on wine products in the last 2 years\n",
    "15. MntGoldProds: The amount spent on gold products in the last 2 years\n",
    "16. NumDealsPurchases: Number of purchases made with discount\n",
    "17. NumCatalogPurchases: Number of purchases made using a catalog (buying goods to be shipped through the mail)\n",
    "18. NumStorePurchases: Number of purchases made directly in stores\n",
    "19. NumWebPurchases: Number of purchases made through the company's website\n",
    "20. NumWebVisitsMonth: Number of visits to the company's website in the last month\n",
    "21. AcceptedCmp1: 1 if customer accepted the offer in the first campaign, 0 otherwise\n",
    "22. AcceptedCmp2: 1 if customer accepted the offer in the second campaign, 0 otherwise\n",
    "23. AcceptedCmp3: 1 if customer accepted the offer in the third campaign, 0 otherwise\n",
    "24. AcceptedCmp4: 1 if customer accepted the offer in the fourth campaign, 0 otherwise\n",
    "25. AcceptedCmp5: 1 if customer accepted the offer in the fifth campaign, 0 otherwise\n",
    "26. Response: 1 if customer accepted the offer in the last campaign, 0 otherwise\n",
    "27. Complain: 1 If the customer complained in the last 2 years, 0 otherwise\n",
    "\n",
    "**Note:** You can assume that the data is collected in the year 2016."
   ]
  },
  {
   "cell_type": "markdown",
   "id": "65b7a9d6",
   "metadata": {
    "id": "8AqyAIRRVL3P"
   },
   "source": [
    "## **Important Notes**\n",
    "\n",
    "- This notebook can be considered a guide to refer to while solving the problem. The evaluation will be as per the Rubric shared for each Milestone. Unlike previous courses, it does not follow the pattern of the graded questions in different sections. This notebook will give you a direction on what steps need to be taken in order to get a viable solution to the problem. Please note that this is just one way of doing this. There can be other 'creative' ways to solve the problem and we urge you to feel free and explore them as an 'optional' exercise. \n",
    "\n",
    "- In the notebook, there are markdown cells called - Observations and Insights. It is a good practice to provide observations and extract insights from the outputs.\n",
    "\n",
    "- The naming convention for different variables can vary. Please consider the code provided in this notebook as a sample code.\n",
    "\n",
    "- All the outputs in the notebook are just for reference and can be different if you follow a different approach.\n",
    "\n",
    "- There are sections called **Think About It** in the notebook that will help you get a better understanding of the reasoning behind a particular technique/step. Interested learners can take alternative approaches if they wish to explore different techniques. "
   ]
  },
  {
   "cell_type": "markdown",
   "id": "834757fb",
   "metadata": {
    "id": "sq6tooY0VL3Q"
   },
   "source": [
    "# **Milestone 1** "
   ]
  },
  {
   "cell_type": "markdown",
   "id": "vEUKOiz5-Qld",
   "metadata": {
    "id": "vEUKOiz5-Qld"
   },
   "source": [
    "### **Loading Libraries**"
   ]
  },
  {
   "cell_type": "code",
   "execution_count": 8,
   "id": "4297cf5d",
   "metadata": {},
   "outputs": [],
   "source": [
    "# Libraries to help with reading and manipulating data\n",
    "import numpy as np\n",
    "import pandas as pd\n",
    "\n",
    "# Libraries to help with data visualization\n",
    "import matplotlib.pyplot as plt\n",
    "import seaborn as sns\n",
    "\n",
    "# To scale the data using z-score\n",
    "from sklearn.preprocessing import StandardScaler\n",
    "\n",
    "# To compute distances\n",
    "from scipy.spatial.distance import cdist\n",
    "\n",
    "# To perform K-means clustering and compute Silhouette scores\n",
    "from sklearn.cluster import KMeans\n",
    "from sklearn.metrics import silhouette_score\n",
    "\n",
    "# To visualize the elbow curve and Silhouette scores\n",
    "# from yellowbrick.cluster import SilhouetteVisualizer\n",
    "\n",
    "# Importing PCA\n",
    "from sklearn.decomposition import PCA\n",
    "\n",
    "# To encode the variable\n",
    "from sklearn.preprocessing import LabelEncoder\n",
    "\n",
    "# Importing TSNE\n",
    "from sklearn.manifold import TSNE\n",
    "\n",
    "# To perform hierarchical clustering, compute cophenetic correlation, and create dendrograms\n",
    "from sklearn.cluster import AgglomerativeClustering\n",
    "from scipy.cluster.hierarchy import dendrogram, linkage, cophenet\n",
    "\n",
    "# To compute distances\n",
    "from scipy.spatial.distance import pdist\n",
    "\n",
    "# To import K-Medoids\n",
    "# from sklearn_extra.cluster import KMedoids\n",
    "\n",
    "# To import Gaussian Mixture\n",
    "from sklearn.mixture import GaussianMixture\n",
    "\n",
    "# To supress warnings\n",
    "import warnings\n",
    "\n",
    "warnings.filterwarnings(\"ignore\")"
   ]
  },
  {
   "cell_type": "code",
   "execution_count": 3,
   "id": "86c03d92",
   "metadata": {},
   "outputs": [
    {
     "name": "stdout",
     "output_type": "stream",
     "text": [
      "Collecting yellowbrick\n",
      "  Downloading yellowbrick-1.5-py3-none-any.whl (282 kB)\n",
      "Requirement already satisfied: matplotlib!=3.0.0,>=2.0.2 in c:\\users\\rober\\anaconda3\\lib\\site-packages (from yellowbrick) (3.4.3)\n",
      "Collecting scikit-learn>=1.0.0\n",
      "  Downloading scikit_learn-1.1.2-cp39-cp39-win_amd64.whl (7.4 MB)\n",
      "Requirement already satisfied: scipy>=1.0.0 in c:\\users\\rober\\anaconda3\\lib\\site-packages (from yellowbrick) (1.7.1)\n",
      "Requirement already satisfied: numpy>=1.16.0 in c:\\users\\rober\\anaconda3\\lib\\site-packages (from yellowbrick) (1.20.3)\n",
      "Requirement already satisfied: cycler>=0.10.0 in c:\\users\\rober\\anaconda3\\lib\\site-packages (from yellowbrick) (0.10.0)\n",
      "Requirement already satisfied: six in c:\\users\\rober\\anaconda3\\lib\\site-packages (from cycler>=0.10.0->yellowbrick) (1.16.0)\n",
      "Requirement already satisfied: python-dateutil>=2.7 in c:\\users\\rober\\anaconda3\\lib\\site-packages (from matplotlib!=3.0.0,>=2.0.2->yellowbrick) (2.8.2)\n",
      "Requirement already satisfied: pyparsing>=2.2.1 in c:\\users\\rober\\anaconda3\\lib\\site-packages (from matplotlib!=3.0.0,>=2.0.2->yellowbrick) (3.0.4)\n",
      "Requirement already satisfied: kiwisolver>=1.0.1 in c:\\users\\rober\\anaconda3\\lib\\site-packages (from matplotlib!=3.0.0,>=2.0.2->yellowbrick) (1.3.1)\n",
      "Requirement already satisfied: pillow>=6.2.0 in c:\\users\\rober\\anaconda3\\lib\\site-packages (from matplotlib!=3.0.0,>=2.0.2->yellowbrick) (8.4.0)\n",
      "Requirement already satisfied: joblib>=1.0.0 in c:\\users\\rober\\anaconda3\\lib\\site-packages (from scikit-learn>=1.0.0->yellowbrick) (1.1.0)\n",
      "Requirement already satisfied: threadpoolctl>=2.0.0 in c:\\users\\rober\\anaconda3\\lib\\site-packages (from scikit-learn>=1.0.0->yellowbrick) (2.2.0)\n",
      "Installing collected packages: scikit-learn, yellowbrick\n",
      "  Attempting uninstall: scikit-learn\n",
      "    Found existing installation: scikit-learn 0.24.2\n",
      "    Uninstalling scikit-learn-0.24.2:\n",
      "      Successfully uninstalled scikit-learn-0.24.2\n",
      "Successfully installed scikit-learn-1.1.2 yellowbrick-1.5\n",
      "Note: you may need to restart the kernel to use updated packages.\n"
     ]
    }
   ],
   "source": [
    "!pip install yellowbrick"
   ]
  },
  {
   "cell_type": "code",
   "execution_count": 5,
   "id": "50cb105a",
   "metadata": {},
   "outputs": [
    {
     "name": "stdout",
     "output_type": "stream",
     "text": [
      "Found existing installation: scikit-learn 1.1.2\n",
      "Uninstalling scikit-learn-1.1.2:\n",
      "  Successfully uninstalled scikit-learn-1.1.2\n"
     ]
    }
   ],
   "source": [
    "!pip uninstall scikit-learn -y"
   ]
  },
  {
   "cell_type": "code",
   "execution_count": 6,
   "id": "fd1be47a",
   "metadata": {},
   "outputs": [
    {
     "name": "stdout",
     "output_type": "stream",
     "text": [
      "Collecting scikit-learn\n",
      "  Using cached scikit_learn-1.1.2-cp39-cp39-win_amd64.whl (7.4 MB)\n",
      "Requirement already satisfied: numpy>=1.17.3 in c:\\users\\rober\\anaconda3\\lib\\site-packages (from scikit-learn) (1.20.3)\n",
      "Requirement already satisfied: joblib>=1.0.0 in c:\\users\\rober\\anaconda3\\lib\\site-packages (from scikit-learn) (1.1.0)\n",
      "Requirement already satisfied: threadpoolctl>=2.0.0 in c:\\users\\rober\\anaconda3\\lib\\site-packages (from scikit-learn) (2.2.0)\n",
      "Requirement already satisfied: scipy>=1.3.2 in c:\\users\\rober\\anaconda3\\lib\\site-packages (from scikit-learn) (1.7.1)\n",
      "Installing collected packages: scikit-learn\n",
      "Successfully installed scikit-learn-1.1.2\n"
     ]
    }
   ],
   "source": [
    "!pip3 install scikit-learn "
   ]
  },
  {
   "cell_type": "code",
   "execution_count": 7,
   "id": "06b5bc7b",
   "metadata": {},
   "outputs": [],
   "source": [
    "# To visualize the elbow curve and Silhouette scores\n",
    "from yellowbrick.cluster import SilhouetteVisualizer"
   ]
  },
  {
   "cell_type": "code",
   "execution_count": 2,
   "id": "992bf22a",
   "metadata": {},
   "outputs": [
    {
     "name": "stdout",
     "output_type": "stream",
     "text": [
      "Collecting scikit-learn-extra\n",
      "  Downloading scikit_learn_extra-0.2.0-cp39-cp39-win_amd64.whl (380 kB)\n",
      "Requirement already satisfied: numpy>=1.13.3 in c:\\users\\rober\\anaconda3\\lib\\site-packages (from scikit-learn-extra) (1.20.3)\n",
      "Requirement already satisfied: scipy>=0.19.1 in c:\\users\\rober\\anaconda3\\lib\\site-packages (from scikit-learn-extra) (1.7.1)\n",
      "Requirement already satisfied: scikit-learn>=0.23.0 in c:\\users\\rober\\anaconda3\\lib\\site-packages (from scikit-learn-extra) (1.1.2)\n",
      "Requirement already satisfied: joblib>=1.0.0 in c:\\users\\rober\\anaconda3\\lib\\site-packages (from scikit-learn>=0.23.0->scikit-learn-extra) (1.1.0)\n",
      "Requirement already satisfied: threadpoolctl>=2.0.0 in c:\\users\\rober\\anaconda3\\lib\\site-packages (from scikit-learn>=0.23.0->scikit-learn-extra) (2.2.0)\n",
      "Installing collected packages: scikit-learn-extra\n",
      "Successfully installed scikit-learn-extra-0.2.0\n",
      "Note: you may need to restart the kernel to use updated packages.\n"
     ]
    }
   ],
   "source": [
    "pip install scikit-learn-extra"
   ]
  },
  {
   "cell_type": "code",
   "execution_count": 3,
   "id": "74242239",
   "metadata": {},
   "outputs": [],
   "source": [
    "# To import K-Medoids\n",
    "from sklearn_extra.cluster import KMedoids"
   ]
  },
  {
   "cell_type": "markdown",
   "id": "ZAEqtrQu-VzO",
   "metadata": {
    "id": "ZAEqtrQu-VzO"
   },
   "source": [
    "### **Let us load the data**"
   ]
  },
  {
   "cell_type": "code",
   "execution_count": 9,
   "id": "70b39cc0",
   "metadata": {},
   "outputs": [],
   "source": [
    "# loading the dataset\n",
    "data = pd.read_csv(\"marketing_campaign.csv\")"
   ]
  },
  {
   "cell_type": "markdown",
   "id": "3e64e53a",
   "metadata": {},
   "source": [
    "### **Check the shape of the data**"
   ]
  },
  {
   "cell_type": "code",
   "execution_count": 11,
   "id": "e94b4947",
   "metadata": {},
   "outputs": [
    {
     "data": {
      "text/plain": [
       "(2240, 27)"
      ]
     },
     "execution_count": 11,
     "metadata": {},
     "output_type": "execute_result"
    }
   ],
   "source": [
    "# Print the shape of the data\n",
    "data.shape"
   ]
  },
  {
   "cell_type": "markdown",
   "id": "O9rtKHxB-fy1",
   "metadata": {
    "id": "O9rtKHxB-fy1"
   },
   "source": [
    "#### **Observations and Insights: **\n",
    "- The dataset contains 2240 rows.\n",
    "- The dataset contains 27 columns"
   ]
  },
  {
   "cell_type": "markdown",
   "id": "6BoKgZyQ-nAF",
   "metadata": {
    "id": "6BoKgZyQ-nAF"
   },
   "source": [
    "### **Understand the data by observing a few rows**"
   ]
  },
  {
   "cell_type": "code",
   "execution_count": 13,
   "id": "9cd1bc4b",
   "metadata": {},
   "outputs": [
    {
     "data": {
      "text/html": [
       "<div>\n",
       "<style scoped>\n",
       "    .dataframe tbody tr th:only-of-type {\n",
       "        vertical-align: middle;\n",
       "    }\n",
       "\n",
       "    .dataframe tbody tr th {\n",
       "        vertical-align: top;\n",
       "    }\n",
       "\n",
       "    .dataframe thead th {\n",
       "        text-align: right;\n",
       "    }\n",
       "</style>\n",
       "<table border=\"1\" class=\"dataframe\">\n",
       "  <thead>\n",
       "    <tr style=\"text-align: right;\">\n",
       "      <th></th>\n",
       "      <th>ID</th>\n",
       "      <th>Year_Birth</th>\n",
       "      <th>Education</th>\n",
       "      <th>Marital_Status</th>\n",
       "      <th>Income</th>\n",
       "      <th>Kidhome</th>\n",
       "      <th>Teenhome</th>\n",
       "      <th>Dt_Customer</th>\n",
       "      <th>Recency</th>\n",
       "      <th>MntWines</th>\n",
       "      <th>...</th>\n",
       "      <th>NumCatalogPurchases</th>\n",
       "      <th>NumStorePurchases</th>\n",
       "      <th>NumWebVisitsMonth</th>\n",
       "      <th>AcceptedCmp3</th>\n",
       "      <th>AcceptedCmp4</th>\n",
       "      <th>AcceptedCmp5</th>\n",
       "      <th>AcceptedCmp1</th>\n",
       "      <th>AcceptedCmp2</th>\n",
       "      <th>Complain</th>\n",
       "      <th>Response</th>\n",
       "    </tr>\n",
       "  </thead>\n",
       "  <tbody>\n",
       "    <tr>\n",
       "      <th>0</th>\n",
       "      <td>5524</td>\n",
       "      <td>1957</td>\n",
       "      <td>Graduation</td>\n",
       "      <td>Single</td>\n",
       "      <td>58138.0</td>\n",
       "      <td>0</td>\n",
       "      <td>0</td>\n",
       "      <td>04-09-2012</td>\n",
       "      <td>58</td>\n",
       "      <td>635</td>\n",
       "      <td>...</td>\n",
       "      <td>10</td>\n",
       "      <td>4</td>\n",
       "      <td>7</td>\n",
       "      <td>0</td>\n",
       "      <td>0</td>\n",
       "      <td>0</td>\n",
       "      <td>0</td>\n",
       "      <td>0</td>\n",
       "      <td>0</td>\n",
       "      <td>1</td>\n",
       "    </tr>\n",
       "    <tr>\n",
       "      <th>1</th>\n",
       "      <td>2174</td>\n",
       "      <td>1954</td>\n",
       "      <td>Graduation</td>\n",
       "      <td>Single</td>\n",
       "      <td>46344.0</td>\n",
       "      <td>1</td>\n",
       "      <td>1</td>\n",
       "      <td>08-03-2014</td>\n",
       "      <td>38</td>\n",
       "      <td>11</td>\n",
       "      <td>...</td>\n",
       "      <td>1</td>\n",
       "      <td>2</td>\n",
       "      <td>5</td>\n",
       "      <td>0</td>\n",
       "      <td>0</td>\n",
       "      <td>0</td>\n",
       "      <td>0</td>\n",
       "      <td>0</td>\n",
       "      <td>0</td>\n",
       "      <td>0</td>\n",
       "    </tr>\n",
       "    <tr>\n",
       "      <th>2</th>\n",
       "      <td>4141</td>\n",
       "      <td>1965</td>\n",
       "      <td>Graduation</td>\n",
       "      <td>Together</td>\n",
       "      <td>71613.0</td>\n",
       "      <td>0</td>\n",
       "      <td>0</td>\n",
       "      <td>21-08-2013</td>\n",
       "      <td>26</td>\n",
       "      <td>426</td>\n",
       "      <td>...</td>\n",
       "      <td>2</td>\n",
       "      <td>10</td>\n",
       "      <td>4</td>\n",
       "      <td>0</td>\n",
       "      <td>0</td>\n",
       "      <td>0</td>\n",
       "      <td>0</td>\n",
       "      <td>0</td>\n",
       "      <td>0</td>\n",
       "      <td>0</td>\n",
       "    </tr>\n",
       "    <tr>\n",
       "      <th>3</th>\n",
       "      <td>6182</td>\n",
       "      <td>1984</td>\n",
       "      <td>Graduation</td>\n",
       "      <td>Together</td>\n",
       "      <td>26646.0</td>\n",
       "      <td>1</td>\n",
       "      <td>0</td>\n",
       "      <td>10-02-2014</td>\n",
       "      <td>26</td>\n",
       "      <td>11</td>\n",
       "      <td>...</td>\n",
       "      <td>0</td>\n",
       "      <td>4</td>\n",
       "      <td>6</td>\n",
       "      <td>0</td>\n",
       "      <td>0</td>\n",
       "      <td>0</td>\n",
       "      <td>0</td>\n",
       "      <td>0</td>\n",
       "      <td>0</td>\n",
       "      <td>0</td>\n",
       "    </tr>\n",
       "    <tr>\n",
       "      <th>4</th>\n",
       "      <td>5324</td>\n",
       "      <td>1981</td>\n",
       "      <td>PhD</td>\n",
       "      <td>Married</td>\n",
       "      <td>58293.0</td>\n",
       "      <td>1</td>\n",
       "      <td>0</td>\n",
       "      <td>19-01-2014</td>\n",
       "      <td>94</td>\n",
       "      <td>173</td>\n",
       "      <td>...</td>\n",
       "      <td>3</td>\n",
       "      <td>6</td>\n",
       "      <td>5</td>\n",
       "      <td>0</td>\n",
       "      <td>0</td>\n",
       "      <td>0</td>\n",
       "      <td>0</td>\n",
       "      <td>0</td>\n",
       "      <td>0</td>\n",
       "      <td>0</td>\n",
       "    </tr>\n",
       "  </tbody>\n",
       "</table>\n",
       "<p>5 rows × 27 columns</p>\n",
       "</div>"
      ],
      "text/plain": [
       "     ID  Year_Birth   Education Marital_Status   Income  Kidhome  Teenhome  \\\n",
       "0  5524        1957  Graduation         Single  58138.0        0         0   \n",
       "1  2174        1954  Graduation         Single  46344.0        1         1   \n",
       "2  4141        1965  Graduation       Together  71613.0        0         0   \n",
       "3  6182        1984  Graduation       Together  26646.0        1         0   \n",
       "4  5324        1981         PhD        Married  58293.0        1         0   \n",
       "\n",
       "  Dt_Customer  Recency  MntWines  ...  NumCatalogPurchases  NumStorePurchases  \\\n",
       "0  04-09-2012       58       635  ...                   10                  4   \n",
       "1  08-03-2014       38        11  ...                    1                  2   \n",
       "2  21-08-2013       26       426  ...                    2                 10   \n",
       "3  10-02-2014       26        11  ...                    0                  4   \n",
       "4  19-01-2014       94       173  ...                    3                  6   \n",
       "\n",
       "   NumWebVisitsMonth  AcceptedCmp3  AcceptedCmp4  AcceptedCmp5  AcceptedCmp1  \\\n",
       "0                  7             0             0             0             0   \n",
       "1                  5             0             0             0             0   \n",
       "2                  4             0             0             0             0   \n",
       "3                  6             0             0             0             0   \n",
       "4                  5             0             0             0             0   \n",
       "\n",
       "   AcceptedCmp2  Complain  Response  \n",
       "0             0         0         1  \n",
       "1             0         0         0  \n",
       "2             0         0         0  \n",
       "3             0         0         0  \n",
       "4             0         0         0  \n",
       "\n",
       "[5 rows x 27 columns]"
      ]
     },
     "execution_count": 13,
     "metadata": {},
     "output_type": "execute_result"
    }
   ],
   "source": [
    "# View first 5 rows\n",
    "data.head()"
   ]
  },
  {
   "cell_type": "code",
   "execution_count": 14,
   "id": "c417a660",
   "metadata": {},
   "outputs": [
    {
     "data": {
      "text/html": [
       "<div>\n",
       "<style scoped>\n",
       "    .dataframe tbody tr th:only-of-type {\n",
       "        vertical-align: middle;\n",
       "    }\n",
       "\n",
       "    .dataframe tbody tr th {\n",
       "        vertical-align: top;\n",
       "    }\n",
       "\n",
       "    .dataframe thead th {\n",
       "        text-align: right;\n",
       "    }\n",
       "</style>\n",
       "<table border=\"1\" class=\"dataframe\">\n",
       "  <thead>\n",
       "    <tr style=\"text-align: right;\">\n",
       "      <th></th>\n",
       "      <th>ID</th>\n",
       "      <th>Year_Birth</th>\n",
       "      <th>Education</th>\n",
       "      <th>Marital_Status</th>\n",
       "      <th>Income</th>\n",
       "      <th>Kidhome</th>\n",
       "      <th>Teenhome</th>\n",
       "      <th>Dt_Customer</th>\n",
       "      <th>Recency</th>\n",
       "      <th>MntWines</th>\n",
       "      <th>...</th>\n",
       "      <th>NumCatalogPurchases</th>\n",
       "      <th>NumStorePurchases</th>\n",
       "      <th>NumWebVisitsMonth</th>\n",
       "      <th>AcceptedCmp3</th>\n",
       "      <th>AcceptedCmp4</th>\n",
       "      <th>AcceptedCmp5</th>\n",
       "      <th>AcceptedCmp1</th>\n",
       "      <th>AcceptedCmp2</th>\n",
       "      <th>Complain</th>\n",
       "      <th>Response</th>\n",
       "    </tr>\n",
       "  </thead>\n",
       "  <tbody>\n",
       "    <tr>\n",
       "      <th>2235</th>\n",
       "      <td>10870</td>\n",
       "      <td>1967</td>\n",
       "      <td>Graduation</td>\n",
       "      <td>Married</td>\n",
       "      <td>61223.0</td>\n",
       "      <td>0</td>\n",
       "      <td>1</td>\n",
       "      <td>13-06-2013</td>\n",
       "      <td>46</td>\n",
       "      <td>709</td>\n",
       "      <td>...</td>\n",
       "      <td>3</td>\n",
       "      <td>4</td>\n",
       "      <td>5</td>\n",
       "      <td>0</td>\n",
       "      <td>0</td>\n",
       "      <td>0</td>\n",
       "      <td>0</td>\n",
       "      <td>0</td>\n",
       "      <td>0</td>\n",
       "      <td>0</td>\n",
       "    </tr>\n",
       "    <tr>\n",
       "      <th>2236</th>\n",
       "      <td>4001</td>\n",
       "      <td>1946</td>\n",
       "      <td>PhD</td>\n",
       "      <td>Together</td>\n",
       "      <td>64014.0</td>\n",
       "      <td>2</td>\n",
       "      <td>1</td>\n",
       "      <td>10-06-2014</td>\n",
       "      <td>56</td>\n",
       "      <td>406</td>\n",
       "      <td>...</td>\n",
       "      <td>2</td>\n",
       "      <td>5</td>\n",
       "      <td>7</td>\n",
       "      <td>0</td>\n",
       "      <td>0</td>\n",
       "      <td>0</td>\n",
       "      <td>1</td>\n",
       "      <td>0</td>\n",
       "      <td>0</td>\n",
       "      <td>0</td>\n",
       "    </tr>\n",
       "    <tr>\n",
       "      <th>2237</th>\n",
       "      <td>7270</td>\n",
       "      <td>1981</td>\n",
       "      <td>Graduation</td>\n",
       "      <td>Divorced</td>\n",
       "      <td>56981.0</td>\n",
       "      <td>0</td>\n",
       "      <td>0</td>\n",
       "      <td>25-01-2014</td>\n",
       "      <td>91</td>\n",
       "      <td>908</td>\n",
       "      <td>...</td>\n",
       "      <td>3</td>\n",
       "      <td>13</td>\n",
       "      <td>6</td>\n",
       "      <td>0</td>\n",
       "      <td>1</td>\n",
       "      <td>0</td>\n",
       "      <td>0</td>\n",
       "      <td>0</td>\n",
       "      <td>0</td>\n",
       "      <td>0</td>\n",
       "    </tr>\n",
       "    <tr>\n",
       "      <th>2238</th>\n",
       "      <td>8235</td>\n",
       "      <td>1956</td>\n",
       "      <td>Master</td>\n",
       "      <td>Together</td>\n",
       "      <td>69245.0</td>\n",
       "      <td>0</td>\n",
       "      <td>1</td>\n",
       "      <td>24-01-2014</td>\n",
       "      <td>8</td>\n",
       "      <td>428</td>\n",
       "      <td>...</td>\n",
       "      <td>5</td>\n",
       "      <td>10</td>\n",
       "      <td>3</td>\n",
       "      <td>0</td>\n",
       "      <td>0</td>\n",
       "      <td>0</td>\n",
       "      <td>0</td>\n",
       "      <td>0</td>\n",
       "      <td>0</td>\n",
       "      <td>0</td>\n",
       "    </tr>\n",
       "    <tr>\n",
       "      <th>2239</th>\n",
       "      <td>9405</td>\n",
       "      <td>1954</td>\n",
       "      <td>PhD</td>\n",
       "      <td>Married</td>\n",
       "      <td>52869.0</td>\n",
       "      <td>1</td>\n",
       "      <td>1</td>\n",
       "      <td>15-10-2012</td>\n",
       "      <td>40</td>\n",
       "      <td>84</td>\n",
       "      <td>...</td>\n",
       "      <td>1</td>\n",
       "      <td>4</td>\n",
       "      <td>7</td>\n",
       "      <td>0</td>\n",
       "      <td>0</td>\n",
       "      <td>0</td>\n",
       "      <td>0</td>\n",
       "      <td>0</td>\n",
       "      <td>0</td>\n",
       "      <td>1</td>\n",
       "    </tr>\n",
       "  </tbody>\n",
       "</table>\n",
       "<p>5 rows × 27 columns</p>\n",
       "</div>"
      ],
      "text/plain": [
       "         ID  Year_Birth   Education Marital_Status   Income  Kidhome  \\\n",
       "2235  10870        1967  Graduation        Married  61223.0        0   \n",
       "2236   4001        1946         PhD       Together  64014.0        2   \n",
       "2237   7270        1981  Graduation       Divorced  56981.0        0   \n",
       "2238   8235        1956      Master       Together  69245.0        0   \n",
       "2239   9405        1954         PhD        Married  52869.0        1   \n",
       "\n",
       "      Teenhome Dt_Customer  Recency  MntWines  ...  NumCatalogPurchases  \\\n",
       "2235         1  13-06-2013       46       709  ...                    3   \n",
       "2236         1  10-06-2014       56       406  ...                    2   \n",
       "2237         0  25-01-2014       91       908  ...                    3   \n",
       "2238         1  24-01-2014        8       428  ...                    5   \n",
       "2239         1  15-10-2012       40        84  ...                    1   \n",
       "\n",
       "      NumStorePurchases  NumWebVisitsMonth  AcceptedCmp3  AcceptedCmp4  \\\n",
       "2235                  4                  5             0             0   \n",
       "2236                  5                  7             0             0   \n",
       "2237                 13                  6             0             1   \n",
       "2238                 10                  3             0             0   \n",
       "2239                  4                  7             0             0   \n",
       "\n",
       "      AcceptedCmp5  AcceptedCmp1  AcceptedCmp2  Complain  Response  \n",
       "2235             0             0             0         0         0  \n",
       "2236             0             1             0         0         0  \n",
       "2237             0             0             0         0         0  \n",
       "2238             0             0             0         0         0  \n",
       "2239             0             0             0         0         1  \n",
       "\n",
       "[5 rows x 27 columns]"
      ]
     },
     "execution_count": 14,
     "metadata": {},
     "output_type": "execute_result"
    }
   ],
   "source": [
    "# View last 5 rows Hint: Use tail() method\n",
    "data.tail()"
   ]
  },
  {
   "cell_type": "markdown",
   "id": "e18d7cee",
   "metadata": {},
   "source": [
    "#### **Observations and Insights: _____**"
   ]
  },
  {
   "cell_type": "markdown",
   "id": "b4c9e095",
   "metadata": {
    "id": "PihFetI8HTQd"
   },
   "source": [
    "### **Let us check the data types and and missing values of each column** "
   ]
  },
  {
   "cell_type": "code",
   "execution_count": 15,
   "id": "c14a018a",
   "metadata": {},
   "outputs": [
    {
     "name": "stdout",
     "output_type": "stream",
     "text": [
      "<class 'pandas.core.frame.DataFrame'>\n",
      "RangeIndex: 2240 entries, 0 to 2239\n",
      "Data columns (total 27 columns):\n",
      " #   Column               Non-Null Count  Dtype  \n",
      "---  ------               --------------  -----  \n",
      " 0   ID                   2240 non-null   int64  \n",
      " 1   Year_Birth           2240 non-null   int64  \n",
      " 2   Education            2240 non-null   object \n",
      " 3   Marital_Status       2240 non-null   object \n",
      " 4   Income               2216 non-null   float64\n",
      " 5   Kidhome              2240 non-null   int64  \n",
      " 6   Teenhome             2240 non-null   int64  \n",
      " 7   Dt_Customer          2240 non-null   object \n",
      " 8   Recency              2240 non-null   int64  \n",
      " 9   MntWines             2240 non-null   int64  \n",
      " 10  MntFruits            2240 non-null   int64  \n",
      " 11  MntMeatProducts      2240 non-null   int64  \n",
      " 12  MntFishProducts      2240 non-null   int64  \n",
      " 13  MntSweetProducts     2240 non-null   int64  \n",
      " 14  MntGoldProds         2240 non-null   int64  \n",
      " 15  NumDealsPurchases    2240 non-null   int64  \n",
      " 16  NumWebPurchases      2240 non-null   int64  \n",
      " 17  NumCatalogPurchases  2240 non-null   int64  \n",
      " 18  NumStorePurchases    2240 non-null   int64  \n",
      " 19  NumWebVisitsMonth    2240 non-null   int64  \n",
      " 20  AcceptedCmp3         2240 non-null   int64  \n",
      " 21  AcceptedCmp4         2240 non-null   int64  \n",
      " 22  AcceptedCmp5         2240 non-null   int64  \n",
      " 23  AcceptedCmp1         2240 non-null   int64  \n",
      " 24  AcceptedCmp2         2240 non-null   int64  \n",
      " 25  Complain             2240 non-null   int64  \n",
      " 26  Response             2240 non-null   int64  \n",
      "dtypes: float64(1), int64(23), object(3)\n",
      "memory usage: 472.6+ KB\n"
     ]
    }
   ],
   "source": [
    "# Check the datatypes of each column. Hint: Use info() method\n",
    "data.info()"
   ]
  },
  {
   "cell_type": "code",
   "execution_count": 32,
   "id": "5b1e81dd",
   "metadata": {},
   "outputs": [
    {
     "data": {
      "text/plain": [
       "ID                     0.000000\n",
       "Year_Birth             0.000000\n",
       "Education              0.000000\n",
       "Marital_Status         0.000000\n",
       "Income                 1.071429\n",
       "Kidhome                0.000000\n",
       "Teenhome               0.000000\n",
       "Dt_Customer            0.000000\n",
       "Recency                0.000000\n",
       "MntWines               0.000000\n",
       "MntFruits              0.000000\n",
       "MntMeatProducts        0.000000\n",
       "MntFishProducts        0.000000\n",
       "MntSweetProducts       0.000000\n",
       "MntGoldProds           0.000000\n",
       "NumDealsPurchases      0.000000\n",
       "NumWebPurchases        0.000000\n",
       "NumCatalogPurchases    0.000000\n",
       "NumStorePurchases      0.000000\n",
       "NumWebVisitsMonth      0.000000\n",
       "AcceptedCmp3           0.000000\n",
       "AcceptedCmp4           0.000000\n",
       "AcceptedCmp5           0.000000\n",
       "AcceptedCmp1           0.000000\n",
       "AcceptedCmp2           0.000000\n",
       "Complain               0.000000\n",
       "Response               0.000000\n",
       "dtype: float64"
      ]
     },
     "execution_count": 32,
     "metadata": {},
     "output_type": "execute_result"
    }
   ],
   "source": [
    "# Find the percentage of missing values in each column of the data\n",
    "data.isnull().sum() / data.shape[0] * 100"
   ]
  },
  {
   "cell_type": "markdown",
   "id": "ae64b672",
   "metadata": {},
   "source": [
    "#### **Observations and Insights: _____**"
   ]
  },
  {
   "cell_type": "markdown",
   "id": "375397e7",
   "metadata": {},
   "source": [
    "We can observe that `ID` has no null values. Also the number of unique values are equal to the number of observations. So, `ID` looks like an index for the data entry and such a column would not be useful in providing any predictive power for our analysis. Hence, it can be dropped."
   ]
  },
  {
   "cell_type": "markdown",
   "id": "a01418e2",
   "metadata": {},
   "source": [
    "**Dropping the ID column**"
   ]
  },
  {
   "cell_type": "code",
   "execution_count": 33,
   "id": "3b25be10",
   "metadata": {},
   "outputs": [],
   "source": [
    "# Remove ID column from data. Hint: Use inplace = True\n",
    "data.drop(columns = [\"ID\"], inplace = True)"
   ]
  },
  {
   "cell_type": "markdown",
   "id": "835c10c4",
   "metadata": {},
   "source": [
    "## **Exploratory Data Analysis**"
   ]
  },
  {
   "cell_type": "markdown",
   "id": "0e047d85",
   "metadata": {},
   "source": [
    "### **Let us now explore the summary statistics of numerical variables**"
   ]
  },
  {
   "cell_type": "code",
   "execution_count": 35,
   "id": "c9ceba1e",
   "metadata": {},
   "outputs": [
    {
     "data": {
      "text/html": [
       "<div>\n",
       "<style scoped>\n",
       "    .dataframe tbody tr th:only-of-type {\n",
       "        vertical-align: middle;\n",
       "    }\n",
       "\n",
       "    .dataframe tbody tr th {\n",
       "        vertical-align: top;\n",
       "    }\n",
       "\n",
       "    .dataframe thead th {\n",
       "        text-align: right;\n",
       "    }\n",
       "</style>\n",
       "<table border=\"1\" class=\"dataframe\">\n",
       "  <thead>\n",
       "    <tr style=\"text-align: right;\">\n",
       "      <th></th>\n",
       "      <th>count</th>\n",
       "      <th>mean</th>\n",
       "      <th>std</th>\n",
       "      <th>min</th>\n",
       "      <th>25%</th>\n",
       "      <th>50%</th>\n",
       "      <th>75%</th>\n",
       "      <th>max</th>\n",
       "    </tr>\n",
       "  </thead>\n",
       "  <tbody>\n",
       "    <tr>\n",
       "      <th>Year_Birth</th>\n",
       "      <td>2240.0</td>\n",
       "      <td>1968.805804</td>\n",
       "      <td>11.984069</td>\n",
       "      <td>1893.0</td>\n",
       "      <td>1959.00</td>\n",
       "      <td>1970.0</td>\n",
       "      <td>1977.00</td>\n",
       "      <td>1996.0</td>\n",
       "    </tr>\n",
       "    <tr>\n",
       "      <th>Income</th>\n",
       "      <td>2216.0</td>\n",
       "      <td>52247.251354</td>\n",
       "      <td>25173.076661</td>\n",
       "      <td>1730.0</td>\n",
       "      <td>35303.00</td>\n",
       "      <td>51381.5</td>\n",
       "      <td>68522.00</td>\n",
       "      <td>666666.0</td>\n",
       "    </tr>\n",
       "    <tr>\n",
       "      <th>Kidhome</th>\n",
       "      <td>2240.0</td>\n",
       "      <td>0.444196</td>\n",
       "      <td>0.538398</td>\n",
       "      <td>0.0</td>\n",
       "      <td>0.00</td>\n",
       "      <td>0.0</td>\n",
       "      <td>1.00</td>\n",
       "      <td>2.0</td>\n",
       "    </tr>\n",
       "    <tr>\n",
       "      <th>Teenhome</th>\n",
       "      <td>2240.0</td>\n",
       "      <td>0.506250</td>\n",
       "      <td>0.544538</td>\n",
       "      <td>0.0</td>\n",
       "      <td>0.00</td>\n",
       "      <td>0.0</td>\n",
       "      <td>1.00</td>\n",
       "      <td>2.0</td>\n",
       "    </tr>\n",
       "    <tr>\n",
       "      <th>Recency</th>\n",
       "      <td>2240.0</td>\n",
       "      <td>49.109375</td>\n",
       "      <td>28.962453</td>\n",
       "      <td>0.0</td>\n",
       "      <td>24.00</td>\n",
       "      <td>49.0</td>\n",
       "      <td>74.00</td>\n",
       "      <td>99.0</td>\n",
       "    </tr>\n",
       "    <tr>\n",
       "      <th>MntWines</th>\n",
       "      <td>2240.0</td>\n",
       "      <td>303.935714</td>\n",
       "      <td>336.597393</td>\n",
       "      <td>0.0</td>\n",
       "      <td>23.75</td>\n",
       "      <td>173.5</td>\n",
       "      <td>504.25</td>\n",
       "      <td>1493.0</td>\n",
       "    </tr>\n",
       "    <tr>\n",
       "      <th>MntFruits</th>\n",
       "      <td>2240.0</td>\n",
       "      <td>26.302232</td>\n",
       "      <td>39.773434</td>\n",
       "      <td>0.0</td>\n",
       "      <td>1.00</td>\n",
       "      <td>8.0</td>\n",
       "      <td>33.00</td>\n",
       "      <td>199.0</td>\n",
       "    </tr>\n",
       "    <tr>\n",
       "      <th>MntMeatProducts</th>\n",
       "      <td>2240.0</td>\n",
       "      <td>166.950000</td>\n",
       "      <td>225.715373</td>\n",
       "      <td>0.0</td>\n",
       "      <td>16.00</td>\n",
       "      <td>67.0</td>\n",
       "      <td>232.00</td>\n",
       "      <td>1725.0</td>\n",
       "    </tr>\n",
       "    <tr>\n",
       "      <th>MntFishProducts</th>\n",
       "      <td>2240.0</td>\n",
       "      <td>37.525446</td>\n",
       "      <td>54.628979</td>\n",
       "      <td>0.0</td>\n",
       "      <td>3.00</td>\n",
       "      <td>12.0</td>\n",
       "      <td>50.00</td>\n",
       "      <td>259.0</td>\n",
       "    </tr>\n",
       "    <tr>\n",
       "      <th>MntSweetProducts</th>\n",
       "      <td>2240.0</td>\n",
       "      <td>27.062946</td>\n",
       "      <td>41.280498</td>\n",
       "      <td>0.0</td>\n",
       "      <td>1.00</td>\n",
       "      <td>8.0</td>\n",
       "      <td>33.00</td>\n",
       "      <td>263.0</td>\n",
       "    </tr>\n",
       "    <tr>\n",
       "      <th>MntGoldProds</th>\n",
       "      <td>2240.0</td>\n",
       "      <td>44.021875</td>\n",
       "      <td>52.167439</td>\n",
       "      <td>0.0</td>\n",
       "      <td>9.00</td>\n",
       "      <td>24.0</td>\n",
       "      <td>56.00</td>\n",
       "      <td>362.0</td>\n",
       "    </tr>\n",
       "    <tr>\n",
       "      <th>NumDealsPurchases</th>\n",
       "      <td>2240.0</td>\n",
       "      <td>2.325000</td>\n",
       "      <td>1.932238</td>\n",
       "      <td>0.0</td>\n",
       "      <td>1.00</td>\n",
       "      <td>2.0</td>\n",
       "      <td>3.00</td>\n",
       "      <td>15.0</td>\n",
       "    </tr>\n",
       "    <tr>\n",
       "      <th>NumWebPurchases</th>\n",
       "      <td>2240.0</td>\n",
       "      <td>4.084821</td>\n",
       "      <td>2.778714</td>\n",
       "      <td>0.0</td>\n",
       "      <td>2.00</td>\n",
       "      <td>4.0</td>\n",
       "      <td>6.00</td>\n",
       "      <td>27.0</td>\n",
       "    </tr>\n",
       "    <tr>\n",
       "      <th>NumCatalogPurchases</th>\n",
       "      <td>2240.0</td>\n",
       "      <td>2.662054</td>\n",
       "      <td>2.923101</td>\n",
       "      <td>0.0</td>\n",
       "      <td>0.00</td>\n",
       "      <td>2.0</td>\n",
       "      <td>4.00</td>\n",
       "      <td>28.0</td>\n",
       "    </tr>\n",
       "    <tr>\n",
       "      <th>NumStorePurchases</th>\n",
       "      <td>2240.0</td>\n",
       "      <td>5.790179</td>\n",
       "      <td>3.250958</td>\n",
       "      <td>0.0</td>\n",
       "      <td>3.00</td>\n",
       "      <td>5.0</td>\n",
       "      <td>8.00</td>\n",
       "      <td>13.0</td>\n",
       "    </tr>\n",
       "    <tr>\n",
       "      <th>NumWebVisitsMonth</th>\n",
       "      <td>2240.0</td>\n",
       "      <td>5.316518</td>\n",
       "      <td>2.426645</td>\n",
       "      <td>0.0</td>\n",
       "      <td>3.00</td>\n",
       "      <td>6.0</td>\n",
       "      <td>7.00</td>\n",
       "      <td>20.0</td>\n",
       "    </tr>\n",
       "    <tr>\n",
       "      <th>AcceptedCmp3</th>\n",
       "      <td>2240.0</td>\n",
       "      <td>0.072768</td>\n",
       "      <td>0.259813</td>\n",
       "      <td>0.0</td>\n",
       "      <td>0.00</td>\n",
       "      <td>0.0</td>\n",
       "      <td>0.00</td>\n",
       "      <td>1.0</td>\n",
       "    </tr>\n",
       "    <tr>\n",
       "      <th>AcceptedCmp4</th>\n",
       "      <td>2240.0</td>\n",
       "      <td>0.074554</td>\n",
       "      <td>0.262728</td>\n",
       "      <td>0.0</td>\n",
       "      <td>0.00</td>\n",
       "      <td>0.0</td>\n",
       "      <td>0.00</td>\n",
       "      <td>1.0</td>\n",
       "    </tr>\n",
       "    <tr>\n",
       "      <th>AcceptedCmp5</th>\n",
       "      <td>2240.0</td>\n",
       "      <td>0.072768</td>\n",
       "      <td>0.259813</td>\n",
       "      <td>0.0</td>\n",
       "      <td>0.00</td>\n",
       "      <td>0.0</td>\n",
       "      <td>0.00</td>\n",
       "      <td>1.0</td>\n",
       "    </tr>\n",
       "    <tr>\n",
       "      <th>AcceptedCmp1</th>\n",
       "      <td>2240.0</td>\n",
       "      <td>0.064286</td>\n",
       "      <td>0.245316</td>\n",
       "      <td>0.0</td>\n",
       "      <td>0.00</td>\n",
       "      <td>0.0</td>\n",
       "      <td>0.00</td>\n",
       "      <td>1.0</td>\n",
       "    </tr>\n",
       "    <tr>\n",
       "      <th>AcceptedCmp2</th>\n",
       "      <td>2240.0</td>\n",
       "      <td>0.012946</td>\n",
       "      <td>0.113069</td>\n",
       "      <td>0.0</td>\n",
       "      <td>0.00</td>\n",
       "      <td>0.0</td>\n",
       "      <td>0.00</td>\n",
       "      <td>1.0</td>\n",
       "    </tr>\n",
       "    <tr>\n",
       "      <th>Complain</th>\n",
       "      <td>2240.0</td>\n",
       "      <td>0.009375</td>\n",
       "      <td>0.096391</td>\n",
       "      <td>0.0</td>\n",
       "      <td>0.00</td>\n",
       "      <td>0.0</td>\n",
       "      <td>0.00</td>\n",
       "      <td>1.0</td>\n",
       "    </tr>\n",
       "    <tr>\n",
       "      <th>Response</th>\n",
       "      <td>2240.0</td>\n",
       "      <td>0.149107</td>\n",
       "      <td>0.356274</td>\n",
       "      <td>0.0</td>\n",
       "      <td>0.00</td>\n",
       "      <td>0.0</td>\n",
       "      <td>0.00</td>\n",
       "      <td>1.0</td>\n",
       "    </tr>\n",
       "  </tbody>\n",
       "</table>\n",
       "</div>"
      ],
      "text/plain": [
       "                      count          mean           std     min       25%  \\\n",
       "Year_Birth           2240.0   1968.805804     11.984069  1893.0   1959.00   \n",
       "Income               2216.0  52247.251354  25173.076661  1730.0  35303.00   \n",
       "Kidhome              2240.0      0.444196      0.538398     0.0      0.00   \n",
       "Teenhome             2240.0      0.506250      0.544538     0.0      0.00   \n",
       "Recency              2240.0     49.109375     28.962453     0.0     24.00   \n",
       "MntWines             2240.0    303.935714    336.597393     0.0     23.75   \n",
       "MntFruits            2240.0     26.302232     39.773434     0.0      1.00   \n",
       "MntMeatProducts      2240.0    166.950000    225.715373     0.0     16.00   \n",
       "MntFishProducts      2240.0     37.525446     54.628979     0.0      3.00   \n",
       "MntSweetProducts     2240.0     27.062946     41.280498     0.0      1.00   \n",
       "MntGoldProds         2240.0     44.021875     52.167439     0.0      9.00   \n",
       "NumDealsPurchases    2240.0      2.325000      1.932238     0.0      1.00   \n",
       "NumWebPurchases      2240.0      4.084821      2.778714     0.0      2.00   \n",
       "NumCatalogPurchases  2240.0      2.662054      2.923101     0.0      0.00   \n",
       "NumStorePurchases    2240.0      5.790179      3.250958     0.0      3.00   \n",
       "NumWebVisitsMonth    2240.0      5.316518      2.426645     0.0      3.00   \n",
       "AcceptedCmp3         2240.0      0.072768      0.259813     0.0      0.00   \n",
       "AcceptedCmp4         2240.0      0.074554      0.262728     0.0      0.00   \n",
       "AcceptedCmp5         2240.0      0.072768      0.259813     0.0      0.00   \n",
       "AcceptedCmp1         2240.0      0.064286      0.245316     0.0      0.00   \n",
       "AcceptedCmp2         2240.0      0.012946      0.113069     0.0      0.00   \n",
       "Complain             2240.0      0.009375      0.096391     0.0      0.00   \n",
       "Response             2240.0      0.149107      0.356274     0.0      0.00   \n",
       "\n",
       "                         50%       75%       max  \n",
       "Year_Birth            1970.0   1977.00    1996.0  \n",
       "Income               51381.5  68522.00  666666.0  \n",
       "Kidhome                  0.0      1.00       2.0  \n",
       "Teenhome                 0.0      1.00       2.0  \n",
       "Recency                 49.0     74.00      99.0  \n",
       "MntWines               173.5    504.25    1493.0  \n",
       "MntFruits                8.0     33.00     199.0  \n",
       "MntMeatProducts         67.0    232.00    1725.0  \n",
       "MntFishProducts         12.0     50.00     259.0  \n",
       "MntSweetProducts         8.0     33.00     263.0  \n",
       "MntGoldProds            24.0     56.00     362.0  \n",
       "NumDealsPurchases        2.0      3.00      15.0  \n",
       "NumWebPurchases          4.0      6.00      27.0  \n",
       "NumCatalogPurchases      2.0      4.00      28.0  \n",
       "NumStorePurchases        5.0      8.00      13.0  \n",
       "NumWebVisitsMonth        6.0      7.00      20.0  \n",
       "AcceptedCmp3             0.0      0.00       1.0  \n",
       "AcceptedCmp4             0.0      0.00       1.0  \n",
       "AcceptedCmp5             0.0      0.00       1.0  \n",
       "AcceptedCmp1             0.0      0.00       1.0  \n",
       "AcceptedCmp2             0.0      0.00       1.0  \n",
       "Complain                 0.0      0.00       1.0  \n",
       "Response                 0.0      0.00       1.0  "
      ]
     },
     "execution_count": 35,
     "metadata": {},
     "output_type": "execute_result"
    }
   ],
   "source": [
    "# Explore basic summary statistics of numeric variables. Hint: Use describe() method.\n",
    "data.describe().T"
   ]
  },
  {
   "cell_type": "markdown",
   "id": "fd2963b2",
   "metadata": {},
   "source": [
    "#### **Observations and Insights: _____**"
   ]
  },
  {
   "cell_type": "markdown",
   "id": "63fa40ad",
   "metadata": {},
   "source": [
    "### **Let us also explore the summary statistics of all categorical variables and the number of unique observations in each category**"
   ]
  },
  {
   "cell_type": "code",
   "execution_count": 9,
   "id": "ac583e5c",
   "metadata": {},
   "outputs": [],
   "source": [
    "# List of the categorical columns in the data\n",
    "cols = [\"Education\", \"Marital_Status\", \"Kidhome\", \"Teenhome\", \"Complain\"]"
   ]
  },
  {
   "cell_type": "markdown",
   "id": "45b8b46e",
   "metadata": {},
   "source": [
    "**Number of unique observations in each category**"
   ]
  },
  {
   "cell_type": "code",
   "execution_count": null,
   "id": "c51adf97",
   "metadata": {},
   "outputs": [],
   "source": [
    "for column in cols:\n",
    "    print(\"Unique values in\", column, \"are :\")\n",
    "    print(data[column].____________)\n",
    "    print(\"*\" * 50)"
   ]
  },
  {
   "cell_type": "markdown",
   "id": "73b75da6",
   "metadata": {},
   "source": [
    "#### **Observations and Insights: _____**"
   ]
  },
  {
   "cell_type": "markdown",
   "id": "5e0df3d2",
   "metadata": {},
   "source": [
    "**Think About It:**\n",
    "\n",
    "- We could observe from the summary statistics of categorical variables that the Education variable has 5 categories. Are all categories different from each other or can we combine some categories? Is 2n Cycle different from Master? \n",
    "- Similarly, there are 8 categories in Marital_Status with some categories having very low count of less than 5. Can we combine these categories with other categories? "
   ]
  },
  {
   "cell_type": "markdown",
   "id": "f7c1bd02",
   "metadata": {},
   "source": [
    "### **Let us replace  the \"2n Cycle\" category with \"Master\" in Education and \"Alone\", \"Absurd, and \"YOLO\" with \"Single\" in Marital_Status**"
   ]
  },
  {
   "cell_type": "code",
   "execution_count": 11,
   "id": "fd493443",
   "metadata": {},
   "outputs": [],
   "source": [
    "# Replace the category \"2n Cycle\" with the category \"Master\"\n",
    "\n",
    "data[\"Education\"]._____________  # Hint: Use the replace() method and inplace=True"
   ]
  },
  {
   "cell_type": "code",
   "execution_count": 12,
   "id": "de3e1ae4",
   "metadata": {},
   "outputs": [],
   "source": [
    "# Replace the categories \"Alone\", \"Abusrd\", \"YOLO\" with the category \"Single\"\n",
    "\n",
    "data[\"Marital_Status\"]._______________  # Hint: Use the replace() method and inplace=True"
   ]
  },
  {
   "cell_type": "markdown",
   "id": "356c9bc7",
   "metadata": {},
   "source": [
    "## **Univariate Analysis**\n",
    "Univariate analysis is used to explore each variable in a data set, separately. It looks at the range of values, as well as the central tendency of the values. It can be done for both numerical and categorical variables."
   ]
  },
  {
   "cell_type": "markdown",
   "id": "3b75f017",
   "metadata": {},
   "source": [
    "## **1. Univariate Analysis - Numerical Data**\n",
    "Histograms help to visualize and describe numerical data. We can also use other plots like box plot to analyze the numerical columns."
   ]
  },
  {
   "cell_type": "markdown",
   "id": "kY9pS6xKQkRA",
   "metadata": {
    "id": "kY9pS6xKQkRA"
   },
   "source": [
    "#### Let us plot histogram for the feature 'Income' to understand the distribution and outliers, if any."
   ]
  },
  {
   "cell_type": "code",
   "execution_count": null,
   "id": "b313c47f",
   "metadata": {},
   "outputs": [],
   "source": [
    "# Create histogram for the Income feature\n",
    "\n",
    "plt.figure(figsize=(15, 7))\n",
    "sns.histplot(x=_________, data=__________)\n",
    "plt.show()"
   ]
  },
  {
   "cell_type": "markdown",
   "id": "e804630f",
   "metadata": {},
   "source": [
    "**We could observe some extreme value on the right side of the distribution of the 'Income' feature. Let's use a box plot as it is more suitable to identify extreme values in the data.** "
   ]
  },
  {
   "cell_type": "code",
   "execution_count": null,
   "id": "0a79ed8f",
   "metadata": {},
   "outputs": [],
   "source": [
    "# Plot the boxplot\n",
    "sns.__________(data=_______, x=_________, showmeans=True, color=\"violet\")"
   ]
  },
  {
   "cell_type": "markdown",
   "id": "9220096a",
   "metadata": {},
   "source": [
    "#### **Observations and Insights: _____**"
   ]
  },
  {
   "cell_type": "markdown",
   "id": "4c75b036",
   "metadata": {},
   "source": [
    "**Think About It**\n",
    "\n",
    "- The histogram and the box plot are showing some extreme value on the right side of the distribution of the 'Income' feature. Can we consider them as outliers and remove or should we analyze these extreme values?"
   ]
  },
  {
   "cell_type": "code",
   "execution_count": null,
   "id": "2d1f2aeb",
   "metadata": {},
   "outputs": [],
   "source": [
    "# Calculating the upper whisker for the Income variable\n",
    "\n",
    "Q1 = data.quantile(q=0.25)                          # Finding the first quartile\n",
    "\n",
    "Q3 = _____________________                          # Finding the third quartile\n",
    "\n",
    "IQR = _______                                       # Finding the Inter Quartile Range\n",
    "\n",
    "upper_whisker = (Q3 + 1.5 * IQR)[________]          # Calculating the Upper Whisker for the Income variable\n",
    "\n",
    "print(upper_whisker)                                # Printing Upper Whisker"
   ]
  },
  {
   "cell_type": "code",
   "execution_count": null,
   "id": "e74c8074",
   "metadata": {},
   "outputs": [],
   "source": [
    "# Let's check the observations with extreme value for the Income variable\n",
    "data[data.Income > upper_whisker]"
   ]
  },
  {
   "cell_type": "markdown",
   "id": "4e28a104",
   "metadata": {},
   "source": [
    "**Think About It:**\n",
    "\n",
    "- We observed that there are only a few rows with extreme values for the Income variable. Is that enough information to treat (or not to treat) them? Do we know at what percentile the upper whisker lies? "
   ]
  },
  {
   "cell_type": "code",
   "execution_count": null,
   "id": "ad7fdfaf",
   "metadata": {},
   "outputs": [],
   "source": [
    "# Check the 99.5% percentile value for the Income variable\n",
    "data.quantile(q=_________)[_______]"
   ]
  },
  {
   "cell_type": "markdown",
   "id": "5d8c69dd",
   "metadata": {},
   "source": [
    "#### **Observations and Insights: _____**"
   ]
  },
  {
   "cell_type": "code",
   "execution_count": 48,
   "id": "a9e7c1f6",
   "metadata": {},
   "outputs": [],
   "source": [
    "# Dropping observations identified as outliers \n",
    "data.drop(index=[_______________], inplace=True) # Pass the indices of the observations (separated by a comma) to drop them"
   ]
  },
  {
   "cell_type": "markdown",
   "id": "af00faa6",
   "metadata": {},
   "source": [
    "**Now, let's check the distribution of the Income variable after dropping outliers.**"
   ]
  },
  {
   "cell_type": "code",
   "execution_count": null,
   "id": "04fc8635",
   "metadata": {},
   "outputs": [],
   "source": [
    "# Plot histogram and 'Income'"
   ]
  },
  {
   "cell_type": "code",
   "execution_count": null,
   "id": "9e8d965d",
   "metadata": {},
   "outputs": [],
   "source": [
    "# Plot the histogram for 'MntWines'"
   ]
  },
  {
   "cell_type": "code",
   "execution_count": null,
   "id": "a620df6f",
   "metadata": {},
   "outputs": [],
   "source": [
    "# Plot the histogram for 'MntFruits'"
   ]
  },
  {
   "cell_type": "code",
   "execution_count": null,
   "id": "b9e3cb1c",
   "metadata": {},
   "outputs": [],
   "source": [
    "# Plot the histogram for 'MntMeatProducts' "
   ]
  },
  {
   "cell_type": "code",
   "execution_count": null,
   "id": "6a279b68",
   "metadata": {},
   "outputs": [],
   "source": [
    "# Plot the histogram for 'MntFishProduct'"
   ]
  },
  {
   "cell_type": "code",
   "execution_count": null,
   "id": "68acbdb6",
   "metadata": {},
   "outputs": [],
   "source": [
    "# Plot the histogram for 'MntSweetProducts'"
   ]
  },
  {
   "cell_type": "code",
   "execution_count": null,
   "id": "4ea5701e",
   "metadata": {},
   "outputs": [],
   "source": [
    "# Plot the histogram for 'MntGoldProducts'"
   ]
  },
  {
   "cell_type": "markdown",
   "id": "6185ed32",
   "metadata": {},
   "source": [
    "#### **Note:** Try plotting histogram for different numerical features and understand how the data looks like."
   ]
  },
  {
   "cell_type": "markdown",
   "id": "78b0c818",
   "metadata": {},
   "source": [
    "#### **Observations and Insights for all the plots: _____**"
   ]
  },
  {
   "cell_type": "markdown",
   "id": "ac04d87d",
   "metadata": {},
   "source": [
    "## **2. Univariate analysis - Categorical Data**"
   ]
  },
  {
   "cell_type": "markdown",
   "id": "d3c6025d",
   "metadata": {},
   "source": [
    "Let us write a function that will help us create bar plots that indicate the percentage for each category. This function takes the categorical column as the input and returns the bar plot for the variable."
   ]
  },
  {
   "cell_type": "code",
   "execution_count": 26,
   "id": "074cde82",
   "metadata": {},
   "outputs": [],
   "source": [
    "def perc_on_bar(z):\n",
    "    '''\n",
    "    plot\n",
    "    feature: categorical feature\n",
    "    the function won't work if a column is passed in hue parameter\n",
    "    '''\n",
    "\n",
    "    total = len(data[z])                                          # Length of the column\n",
    "    plt.figure(figsize=(15,5))\n",
    "    ax = sns.countplot(data[z],palette='Paired',order = data[z].value_counts().index)\n",
    "    for p in ax.patches:\n",
    "        percentage = '{:.1f}%'.format(100 * p.get_height()/total) # Percentage of each class of the category\n",
    "        x = p.get_x() + p.get_width() / 2 - 0.05                  # Width of the plot\n",
    "        y = p.get_y() + p.get_height()                            # Height of the plot\n",
    "        \n",
    "        ax.annotate(percentage, (x, y), size = 12)                # Annotate the percentage \n",
    "    \n",
    "    plt.show()                                                    # Show the plot"
   ]
  },
  {
   "cell_type": "markdown",
   "id": "965a6816",
   "metadata": {},
   "source": [
    "#### Let us plot barplot for the variable Marital_Status."
   ]
  },
  {
   "cell_type": "code",
   "execution_count": null,
   "id": "96698531",
   "metadata": {},
   "outputs": [],
   "source": [
    "# Bar plot for 'Marital_Status'\n",
    "perc_on_bar('Marital_Status')"
   ]
  },
  {
   "cell_type": "markdown",
   "id": "45e70646",
   "metadata": {},
   "source": [
    "#### **Note:** Explore for other categorical variables like Education, Kidhome, Teenhome, Complain."
   ]
  },
  {
   "cell_type": "markdown",
   "id": "b4989521",
   "metadata": {},
   "source": [
    "#### **Observations and Insights from all plots: _____**"
   ]
  },
  {
   "cell_type": "markdown",
   "id": "818f6411",
   "metadata": {},
   "source": [
    "## **Bivariate Analysis**"
   ]
  },
  {
   "cell_type": "markdown",
   "id": "64e50dd4",
   "metadata": {},
   "source": [
    "We have analyzed different categorical and numerical variables. Now, let's check how different variables are related to each other."
   ]
  },
  {
   "cell_type": "markdown",
   "id": "ef227873",
   "metadata": {},
   "source": [
    "### **Correlation Heat map**\n",
    "Heat map can show a 2D correlation matrix between numerical features."
   ]
  },
  {
   "cell_type": "code",
   "execution_count": null,
   "id": "5bd9ab5a",
   "metadata": {},
   "outputs": [],
   "source": [
    "plt.figure(figsize=(15, 7))                                                        # Setting the plot size\n",
    "sns.heatmap(___________, annot=True, vmin=-1, vmax=1, fmt=\".2f\", cmap=\"Spectral\")  # Plotting the correlation plot\n",
    "plt.show()"
   ]
  },
  {
   "cell_type": "markdown",
   "id": "7a57dd0a",
   "metadata": {},
   "source": [
    "#### **Observations and Insights: _____**"
   ]
  },
  {
   "cell_type": "markdown",
   "id": "16c00607",
   "metadata": {},
   "source": [
    "**The above correlation heatmap only shows the relationship between numerical variables. Let's check the relationship of numerical variables with categorical variables.**"
   ]
  },
  {
   "cell_type": "markdown",
   "id": "27d99eb8",
   "metadata": {},
   "source": [
    "### **Education Vs Income**"
   ]
  },
  {
   "cell_type": "code",
   "execution_count": null,
   "id": "2fe4cad7",
   "metadata": {},
   "outputs": [],
   "source": [
    "print(sns.barplot(x=___________, y=__________, data=__________))"
   ]
  },
  {
   "cell_type": "markdown",
   "id": "0bbdb8f0",
   "metadata": {},
   "source": [
    "#### **Observations and Insights: _____**"
   ]
  },
  {
   "cell_type": "markdown",
   "id": "1c9695eb",
   "metadata": {},
   "source": [
    "### **Marital Status Vs Income**"
   ]
  },
  {
   "cell_type": "code",
   "execution_count": null,
   "id": "151b12ca",
   "metadata": {},
   "outputs": [],
   "source": [
    "# Plot the bar plot for Marital_Status and Income"
   ]
  },
  {
   "cell_type": "markdown",
   "id": "e888fe34",
   "metadata": {},
   "source": [
    "#### **Observations and Insights: _____**"
   ]
  },
  {
   "cell_type": "markdown",
   "id": "bbeafd2d",
   "metadata": {},
   "source": [
    "### **Kidhome Vs Income**"
   ]
  },
  {
   "cell_type": "code",
   "execution_count": null,
   "id": "378353ea",
   "metadata": {},
   "outputs": [],
   "source": [
    "# Plot the bar plot for Kidhome and Income"
   ]
  },
  {
   "cell_type": "markdown",
   "id": "6515b240",
   "metadata": {},
   "source": [
    "#### **Observations and Insights: _____**"
   ]
  },
  {
   "cell_type": "markdown",
   "id": "e490deeb",
   "metadata": {},
   "source": [
    "**We can also visualize the relationship between two categorical variables.**"
   ]
  },
  {
   "cell_type": "markdown",
   "id": "0650b3c1",
   "metadata": {},
   "source": [
    "### **Marital_Status Vs Kidhome**"
   ]
  },
  {
   "cell_type": "code",
   "execution_count": null,
   "id": "801ab9be",
   "metadata": {},
   "outputs": [],
   "source": [
    "# Plot the bar plot for Marital_Status and Kidhome\n",
    "pd.crosstab(_________,__________).plot(kind=_________,stacked=False)"
   ]
  },
  {
   "cell_type": "markdown",
   "id": "a631f993",
   "metadata": {},
   "source": [
    "#### **Observations and Insights: _____**"
   ]
  },
  {
   "cell_type": "markdown",
   "id": "7e81e35d",
   "metadata": {},
   "source": [
    "## **Feature Engineering and Data Processing**\n",
    "\n",
    "In this section, we will first prepare our dataset for analysis.\n",
    "- Creating new columns\n",
    "- Imputing missing values"
   ]
  },
  {
   "cell_type": "markdown",
   "id": "d68f9c28",
   "metadata": {},
   "source": [
    "**Think About It:**\n",
    "\n",
    "- The Year_Birth column in the current format might not be very useful in our analysis. The Year_Birth column contains the information about Day, Month, and year. Can we extract the age of each customer?\n",
    "- Are there other columns which can be used to create new features?"
   ]
  },
  {
   "cell_type": "markdown",
   "id": "5146558a",
   "metadata": {},
   "source": [
    "### **Age** "
   ]
  },
  {
   "cell_type": "code",
   "execution_count": null,
   "id": "a3fb675e",
   "metadata": {},
   "outputs": [],
   "source": [
    "# Extract only the year from the Year_Birth variable and subtracting it from 2016 will give us the age of the customer at the time of data collection in 2016\n",
    "\n",
    "data[\"Age\"] = 2016 - pd.to_datetime(_____________, format=\"%Y\").apply(lambda x: x.year) \n",
    "\n",
    "# Sorting the values in ascending order \n",
    "data[\"Age\"].sort_values()                                         "
   ]
  },
  {
   "cell_type": "markdown",
   "id": "1d7ee7a7",
   "metadata": {},
   "source": [
    "#### **Observations and Insights: _____**"
   ]
  },
  {
   "cell_type": "markdown",
   "id": "859d00a3",
   "metadata": {},
   "source": [
    "**Think About It:**\n",
    "\n",
    "- We could observe from the above output that there are customers with an age greater than 115. Can this be true or a data anomaly? Can we drop these observations?"
   ]
  },
  {
   "cell_type": "code",
   "execution_count": 21,
   "id": "8dcfa78f",
   "metadata": {},
   "outputs": [],
   "source": [
    "# Drop the observations with age > 115\n",
    "# Hint: Use drop() method with inplace=True"
   ]
  },
  {
   "cell_type": "markdown",
   "id": "00e0e99e",
   "metadata": {},
   "source": [
    "**Now, let's check the distribution of age in the data.**"
   ]
  },
  {
   "cell_type": "code",
   "execution_count": null,
   "id": "39316fd6",
   "metadata": {},
   "outputs": [],
   "source": [
    "# Plot histogram to check the distribution of age"
   ]
  },
  {
   "cell_type": "markdown",
   "id": "a0a4fc68",
   "metadata": {},
   "source": [
    "#### **Observations and Insights: _____**"
   ]
  },
  {
   "cell_type": "markdown",
   "id": "4bd31628",
   "metadata": {},
   "source": [
    "### **Kids** \n",
    "* Let's create feature \"Kids\" indicating the total kids and teens in the home."
   ]
  },
  {
   "cell_type": "code",
   "execution_count": 23,
   "id": "332114dd",
   "metadata": {},
   "outputs": [],
   "source": [
    "# Add Kidhome and Teenhome variables to create the new feature called \"Kids\"\n",
    "data[\"Kids\"] = __________"
   ]
  },
  {
   "cell_type": "markdown",
   "id": "b07938c1",
   "metadata": {},
   "source": [
    "### **Family Size**\n",
    "* Let's create a new variable called 'Family Size' to find out how many members each family has.\n",
    "* For this, we need to have a look at the Marital_Status variable, and see what are the categories."
   ]
  },
  {
   "cell_type": "code",
   "execution_count": null,
   "id": "b44b6c0b",
   "metadata": {},
   "outputs": [],
   "source": [
    "# Check the unique categories in Marial_Status"
   ]
  },
  {
   "cell_type": "markdown",
   "id": "56bfde90",
   "metadata": {},
   "source": [
    "* We can combine the sub-categories Single, Divorced, Widow as \"Single\" and we can combine the sub-categories Married and Together as \"Relationship\" \n",
    "* Then we can create a new variable called \"Status\" and assign values 1 and 2 to categories Single and Relationship, respectively.\n",
    "* Then, we can use the Kids (calculated above) and the Status column to find the family size."
   ]
  },
  {
   "cell_type": "code",
   "execution_count": 25,
   "id": "6c292479",
   "metadata": {},
   "outputs": [],
   "source": [
    "# Replace \"Married\" and \"Together\" with \"Relationship\""
   ]
  },
  {
   "cell_type": "code",
   "execution_count": null,
   "id": "c0dd3f98",
   "metadata": {},
   "outputs": [],
   "source": [
    "# Replace \"Divorced\" and \"Widow\" with \"Single\""
   ]
  },
  {
   "cell_type": "code",
   "execution_count": null,
   "id": "797ffc5e",
   "metadata": {},
   "outputs": [],
   "source": [
    "# Create a new feature called \"Status\" by replacing \"Single\" with 1 and \"Relationship\" with 2 in Marital_Status\n",
    "data[\"Status\"] = data[__________].replace({_______: 1, ___________: 2}) "
   ]
  },
  {
   "cell_type": "code",
   "execution_count": 26,
   "id": "a1c2eb29",
   "metadata": {},
   "outputs": [],
   "source": [
    "# Add two variables Status and Kids to get the total number of persons in each family\n",
    "data[\"Family_Size\"] = ______________"
   ]
  },
  {
   "cell_type": "markdown",
   "id": "58cc3f74",
   "metadata": {},
   "source": [
    "### **Expenses** \n",
    "* Let's create a new feature called \"Expenses\", indicating the total amount spent by the customers in various products over the span of two years."
   ]
  },
  {
   "cell_type": "code",
   "execution_count": 27,
   "id": "2c692315",
   "metadata": {},
   "outputs": [],
   "source": [
    "# Create a new feature\n",
    "# Add the amount spent on each of product 'MntWines', 'MntFruits', 'MntMeatProducts', 'MntFishProducts', 'MntSweetProducts', 'MntGoldProds'\n",
    "data[\"Expenses\"] = ______________"
   ]
  },
  {
   "cell_type": "markdown",
   "id": "18e22798",
   "metadata": {},
   "source": [
    "### **Total Purchases**\n",
    "* Let's create a new feature called \"NumTotalPurchases\", indicating the total number of products purchased by the customers."
   ]
  },
  {
   "cell_type": "code",
   "execution_count": 28,
   "id": "906b0565",
   "metadata": {},
   "outputs": [],
   "source": [
    "# Create a new feature\n",
    "# Add the number of purchases from each channel 'NumDealsPurchases', 'NumWebPurchases', 'NumCatalogPurchases', 'NumStorePurchases'\n",
    "data[\"NumTotalPurchases\"] = ____________"
   ]
  },
  {
   "cell_type": "markdown",
   "id": "28ff39bc",
   "metadata": {},
   "source": [
    "### **Engaged in Days**\n",
    "* Let's create a new feature called \"Engaged in days\", indicating how long the customer has been with the company."
   ]
  },
  {
   "cell_type": "code",
   "execution_count": 29,
   "id": "6bf1e20e",
   "metadata": {},
   "outputs": [],
   "source": [
    "# Converting Dt_customer variable to Python date time object\n",
    "data[\"Dt_Customer\"] = pd.to_datetime(____________) "
   ]
  },
  {
   "cell_type": "markdown",
   "id": "41ba9161",
   "metadata": {},
   "source": [
    "**Let's check the max and min of the date.**"
   ]
  },
  {
   "cell_type": "code",
   "execution_count": null,
   "id": "d54b70cd",
   "metadata": {
    "scrolled": true
   },
   "outputs": [],
   "source": [
    "# Check the minimum of the date\n",
    "# Hint: Use the min() method"
   ]
  },
  {
   "cell_type": "code",
   "execution_count": null,
   "id": "8ecdbf89",
   "metadata": {
    "scrolled": true
   },
   "outputs": [],
   "source": [
    "# Check the maximum of the date\n",
    "# Hint: Use the max() method"
   ]
  },
  {
   "cell_type": "markdown",
   "id": "0a8eed51",
   "metadata": {},
   "source": [
    "**Think About It:**\n",
    "- From the above output from the max function, we observed that the last customer enrollment date is December 6th, 2014. Can we extract the number of days a customer has been with the company using some date as the threshold? Can January 1st, 2015 be that threshold?"
   ]
  },
  {
   "cell_type": "code",
   "execution_count": 33,
   "id": "dfc01a9c",
   "metadata": {},
   "outputs": [],
   "source": [
    " # Assigning date to the day variable\n",
    "data[\"day\"] = \"01-01-2015\"                         \n",
    "\n",
    "# Converting the variable day to Python datetime object\n",
    "data[\"day\"] = pd.to_datetime(data.day)              "
   ]
  },
  {
   "cell_type": "code",
   "execution_count": 35,
   "id": "f3bd9f4a",
   "metadata": {},
   "outputs": [],
   "source": [
    "data[\"Engaged_in_days\"] = (data[\"day\"] - data[\"Dt_Customer\"]).dt.days     "
   ]
  },
  {
   "cell_type": "markdown",
   "id": "05feb89e",
   "metadata": {},
   "source": [
    "### **TotalAcceptedCmp**\n",
    "* Let's create a new feature called \"TotalAcceptedCmp\" that shows how many offers customers have accepted."
   ]
  },
  {
   "cell_type": "code",
   "execution_count": 36,
   "id": "2fb28da8",
   "metadata": {},
   "outputs": [],
   "source": [
    "# Add all the campaign related variables to get the total number of accepted campaigns by a customer\n",
    "# \"AcceptedCmp1\", \"AcceptedCmp2\", \"AcceptedCmp3\", \"AcceptedCmp4\", \"AcceptedCmp5\", \"Response\"\n",
    "data[\"TotalAcceptedCmp\"] = __________"
   ]
  },
  {
   "cell_type": "markdown",
   "id": "d2193db3",
   "metadata": {},
   "source": [
    "### **AmountPerPurchase**\n",
    "* Let's create a new feature called \"AmountPerPurchase\" indicating the amount spent per purchase."
   ]
  },
  {
   "cell_type": "code",
   "execution_count": 37,
   "id": "ff93c706",
   "metadata": {},
   "outputs": [],
   "source": [
    "# Divide the \"Expenses\" by \"NumTotalPurchases\" to create the new feature AmountPerPurchase \n",
    "data['AmountPerPurchase'] = ________________"
   ]
  },
  {
   "cell_type": "markdown",
   "id": "52b9ee71",
   "metadata": {},
   "source": [
    "**Now, let's check the maximum value of the AmountPerPurchase.**"
   ]
  },
  {
   "cell_type": "code",
   "execution_count": null,
   "id": "f3583b89",
   "metadata": {},
   "outputs": [],
   "source": [
    "# Check the max value\n",
    "# Hint: Use max() function"
   ]
  },
  {
   "cell_type": "markdown",
   "id": "3cf0f01b",
   "metadata": {},
   "source": [
    "**Think About It:**\n",
    "\n",
    "- Is the maximum value in the above output valid? What could be the potential reason for such output?\n",
    "- How many such values are there? Can we drop such observations?"
   ]
  },
  {
   "cell_type": "code",
   "execution_count": null,
   "id": "d3c4407c",
   "metadata": {},
   "outputs": [],
   "source": [
    "# Find how many observations have NumTotalPurchases equal to 0"
   ]
  },
  {
   "cell_type": "code",
   "execution_count": 40,
   "id": "78b4529e",
   "metadata": {},
   "outputs": [],
   "source": [
    "# Drop the observations with NumTotalPurchases equal to 0, using their indices"
   ]
  },
  {
   "cell_type": "markdown",
   "id": "ffba995d",
   "metadata": {},
   "source": [
    "**Now, let's check the distribution of values in AmountPerPurchase column.**"
   ]
  },
  {
   "cell_type": "code",
   "execution_count": null,
   "id": "fc682e26",
   "metadata": {},
   "outputs": [],
   "source": [
    "# Check the summary statistics of the AmountPerPurchase variable "
   ]
  },
  {
   "cell_type": "code",
   "execution_count": null,
   "id": "c5de5de5",
   "metadata": {},
   "outputs": [],
   "source": [
    "# Plot the histogram for the AmountPerPurchas variable"
   ]
  },
  {
   "cell_type": "markdown",
   "id": "40e75013",
   "metadata": {},
   "source": [
    "#### **Observations and Insights: _____**"
   ]
  },
  {
   "cell_type": "markdown",
   "id": "49975b70",
   "metadata": {},
   "source": [
    "### **Imputing Missing Values**"
   ]
  },
  {
   "cell_type": "code",
   "execution_count": 50,
   "id": "741d5135",
   "metadata": {},
   "outputs": [],
   "source": [
    "# Impute the missing values for the Income variable with the median"
   ]
  },
  {
   "cell_type": "markdown",
   "id": "cba3899e",
   "metadata": {},
   "source": [
    "**Now that we are done with data preprocessing, let's visualize new features against the new income variable we have after imputing missing values.**"
   ]
  },
  {
   "cell_type": "markdown",
   "id": "41e7c103",
   "metadata": {},
   "source": [
    "### **Income Vs Expenses**"
   ]
  },
  {
   "cell_type": "code",
   "execution_count": null,
   "id": "eb1ce281",
   "metadata": {},
   "outputs": [],
   "source": [
    "# Plot the scatter plot with Expenses on Y-axis and Income on X-axis  \n",
    "\n",
    "plt.figure(figsize=(20, 10))                                    # Setting the plot size\n",
    "\n",
    "sns.____________________                                        # Hint: Use sns.scatterplot()  \n",
    "\n",
    "plt.xticks(fontsize=16)                                         # Font size of X-label\n",
    "\n",
    "plt.yticks(fontsize=16)                                         # Font size of Y-label\n",
    "\n",
    "plt.xlabel(\"Income\", fontsize=20, labelpad=20)                  # Title of X-axis\n",
    "\n",
    "plt.ylabel(\"Expenses\", fontsize=20, labelpad=20)                # Title of Y-axis"
   ]
  },
  {
   "cell_type": "markdown",
   "id": "e09f35db",
   "metadata": {},
   "source": [
    "#### **Observations and Insights: _____**"
   ]
  },
  {
   "cell_type": "markdown",
   "id": "72064877",
   "metadata": {},
   "source": [
    "### **Family Size Vs Income**"
   ]
  },
  {
   "cell_type": "code",
   "execution_count": null,
   "id": "e6d4b877",
   "metadata": {},
   "outputs": [],
   "source": [
    "# Plot the bar plot for Family Size on X-axis and Income on Y-axis"
   ]
  },
  {
   "cell_type": "markdown",
   "id": "98dd0473",
   "metadata": {},
   "source": [
    "#### **Observations and Insights: _____**"
   ]
  },
  {
   "cell_type": "markdown",
   "id": "98fded39",
   "metadata": {},
   "source": [
    "## **Proposed approach**\n",
    "\n",
    "- **Potential techniques -** What different techniques should be explored?\n",
    "- **Overall solution design -** What is the potential solution design?\n",
    "- **Measures of success -** What are the key measures of success?"
   ]
  }
 ],
 "metadata": {
  "kernelspec": {
   "display_name": "Python 3 (ipykernel)",
   "language": "python",
   "name": "python3"
  },
  "language_info": {
   "codemirror_mode": {
    "name": "ipython",
    "version": 3
   },
   "file_extension": ".py",
   "mimetype": "text/x-python",
   "name": "python",
   "nbconvert_exporter": "python",
   "pygments_lexer": "ipython3",
   "version": "3.9.7"
  }
 },
 "nbformat": 4,
 "nbformat_minor": 5
}
